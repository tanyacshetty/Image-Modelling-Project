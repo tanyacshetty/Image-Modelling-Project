{
 "cells": [
  {
   "cell_type": "code",
   "execution_count": 1,
   "id": "1555f68a",
   "metadata": {},
   "outputs": [
    {
     "name": "stdout",
     "output_type": "stream",
     "text": [
      "Requirement already satisfied: numpy==1.26.0 in /Users/tanyashetty/anaconda3/lib/python3.10/site-packages (1.26.0)\r\n"
     ]
    }
   ],
   "source": [
    "# Install the required libraries\n",
    "\n",
    "!pip install numpy==1.26.0\n"
   ]
  },
  {
   "cell_type": "code",
   "execution_count": 2,
   "id": "4ea2946d",
   "metadata": {},
   "outputs": [
    {
     "name": "stdout",
     "output_type": "stream",
     "text": [
      "Found existing installation: tensorflow 2.18.0\n",
      "Uninstalling tensorflow-2.18.0:\n",
      "  Successfully uninstalled tensorflow-2.18.0\n"
     ]
    }
   ],
   "source": [
    "!pip uninstall tensorflow -y\n"
   ]
  },
  {
   "cell_type": "code",
   "execution_count": 3,
   "id": "8473d324",
   "metadata": {},
   "outputs": [
    {
     "name": "stdout",
     "output_type": "stream",
     "text": [
      "Collecting tensorflow==2.18.0\n",
      "  Using cached tensorflow-2.18.0-cp310-cp310-macosx_12_0_arm64.whl (239.4 MB)\n",
      "Requirement already satisfied: flatbuffers>=24.3.25 in /Users/tanyashetty/anaconda3/lib/python3.10/site-packages (from tensorflow==2.18.0) (24.3.25)\n",
      "Requirement already satisfied: google-pasta>=0.1.1 in /Users/tanyashetty/anaconda3/lib/python3.10/site-packages (from tensorflow==2.18.0) (0.2.0)\n",
      "Requirement already satisfied: ml-dtypes<0.5.0,>=0.4.0 in /Users/tanyashetty/anaconda3/lib/python3.10/site-packages (from tensorflow==2.18.0) (0.4.1)\n",
      "Requirement already satisfied: tensorflow-io-gcs-filesystem>=0.23.1 in /Users/tanyashetty/anaconda3/lib/python3.10/site-packages (from tensorflow==2.18.0) (0.37.1)\n",
      "Requirement already satisfied: astunparse>=1.6.0 in /Users/tanyashetty/anaconda3/lib/python3.10/site-packages (from tensorflow==2.18.0) (1.6.3)\n",
      "Requirement already satisfied: numpy<2.1.0,>=1.26.0 in /Users/tanyashetty/anaconda3/lib/python3.10/site-packages (from tensorflow==2.18.0) (1.26.0)\n",
      "Requirement already satisfied: opt-einsum>=2.3.2 in /Users/tanyashetty/anaconda3/lib/python3.10/site-packages (from tensorflow==2.18.0) (3.4.0)\n",
      "Requirement already satisfied: packaging in /Users/tanyashetty/anaconda3/lib/python3.10/site-packages (from tensorflow==2.18.0) (22.0)\n",
      "Requirement already satisfied: termcolor>=1.1.0 in /Users/tanyashetty/anaconda3/lib/python3.10/site-packages (from tensorflow==2.18.0) (2.5.0)\n",
      "Requirement already satisfied: tensorboard<2.19,>=2.18 in /Users/tanyashetty/anaconda3/lib/python3.10/site-packages (from tensorflow==2.18.0) (2.18.0)\n",
      "Requirement already satisfied: absl-py>=1.0.0 in /Users/tanyashetty/anaconda3/lib/python3.10/site-packages (from tensorflow==2.18.0) (2.1.0)\n",
      "Requirement already satisfied: grpcio<2.0,>=1.24.3 in /Users/tanyashetty/anaconda3/lib/python3.10/site-packages (from tensorflow==2.18.0) (1.68.1)\n",
      "Requirement already satisfied: setuptools in /Users/tanyashetty/anaconda3/lib/python3.10/site-packages (from tensorflow==2.18.0) (65.6.3)\n",
      "Requirement already satisfied: typing-extensions>=3.6.6 in /Users/tanyashetty/anaconda3/lib/python3.10/site-packages (from tensorflow==2.18.0) (4.12.2)\n",
      "Requirement already satisfied: six>=1.12.0 in /Users/tanyashetty/anaconda3/lib/python3.10/site-packages (from tensorflow==2.18.0) (1.16.0)\n",
      "Requirement already satisfied: wrapt>=1.11.0 in /Users/tanyashetty/anaconda3/lib/python3.10/site-packages (from tensorflow==2.18.0) (1.14.1)\n",
      "Requirement already satisfied: keras>=3.5.0 in /Users/tanyashetty/anaconda3/lib/python3.10/site-packages (from tensorflow==2.18.0) (3.7.0)\n",
      "Requirement already satisfied: libclang>=13.0.0 in /Users/tanyashetty/anaconda3/lib/python3.10/site-packages (from tensorflow==2.18.0) (18.1.1)\n",
      "Requirement already satisfied: h5py>=3.11.0 in /Users/tanyashetty/anaconda3/lib/python3.10/site-packages (from tensorflow==2.18.0) (3.12.1)\n",
      "Requirement already satisfied: protobuf!=4.21.0,!=4.21.1,!=4.21.2,!=4.21.3,!=4.21.4,!=4.21.5,<6.0.0dev,>=3.20.3 in /Users/tanyashetty/anaconda3/lib/python3.10/site-packages (from tensorflow==2.18.0) (5.29.2)\n",
      "Requirement already satisfied: gast!=0.5.0,!=0.5.1,!=0.5.2,>=0.2.1 in /Users/tanyashetty/anaconda3/lib/python3.10/site-packages (from tensorflow==2.18.0) (0.6.0)\n",
      "Requirement already satisfied: requests<3,>=2.21.0 in /Users/tanyashetty/anaconda3/lib/python3.10/site-packages (from tensorflow==2.18.0) (2.28.1)\n",
      "Requirement already satisfied: wheel<1.0,>=0.23.0 in /Users/tanyashetty/anaconda3/lib/python3.10/site-packages (from astunparse>=1.6.0->tensorflow==2.18.0) (0.38.4)\n",
      "Requirement already satisfied: optree in /Users/tanyashetty/anaconda3/lib/python3.10/site-packages (from keras>=3.5.0->tensorflow==2.18.0) (0.13.1)\n",
      "Requirement already satisfied: namex in /Users/tanyashetty/anaconda3/lib/python3.10/site-packages (from keras>=3.5.0->tensorflow==2.18.0) (0.0.8)\n",
      "Requirement already satisfied: rich in /Users/tanyashetty/anaconda3/lib/python3.10/site-packages (from keras>=3.5.0->tensorflow==2.18.0) (13.9.4)\n",
      "Requirement already satisfied: urllib3<1.27,>=1.21.1 in /Users/tanyashetty/anaconda3/lib/python3.10/site-packages (from requests<3,>=2.21.0->tensorflow==2.18.0) (1.26.14)\n",
      "Requirement already satisfied: charset-normalizer<3,>=2 in /Users/tanyashetty/anaconda3/lib/python3.10/site-packages (from requests<3,>=2.21.0->tensorflow==2.18.0) (2.0.4)\n",
      "Requirement already satisfied: idna<4,>=2.5 in /Users/tanyashetty/anaconda3/lib/python3.10/site-packages (from requests<3,>=2.21.0->tensorflow==2.18.0) (3.4)\n",
      "Requirement already satisfied: certifi>=2017.4.17 in /Users/tanyashetty/anaconda3/lib/python3.10/site-packages (from requests<3,>=2.21.0->tensorflow==2.18.0) (2024.8.30)\n",
      "Requirement already satisfied: tensorboard-data-server<0.8.0,>=0.7.0 in /Users/tanyashetty/anaconda3/lib/python3.10/site-packages (from tensorboard<2.19,>=2.18->tensorflow==2.18.0) (0.7.2)\n",
      "Requirement already satisfied: werkzeug>=1.0.1 in /Users/tanyashetty/anaconda3/lib/python3.10/site-packages (from tensorboard<2.19,>=2.18->tensorflow==2.18.0) (2.2.2)\n",
      "Requirement already satisfied: markdown>=2.6.8 in /Users/tanyashetty/anaconda3/lib/python3.10/site-packages (from tensorboard<2.19,>=2.18->tensorflow==2.18.0) (3.4.1)\n",
      "Requirement already satisfied: MarkupSafe>=2.1.1 in /Users/tanyashetty/anaconda3/lib/python3.10/site-packages (from werkzeug>=1.0.1->tensorboard<2.19,>=2.18->tensorflow==2.18.0) (2.1.1)\n",
      "Requirement already satisfied: markdown-it-py>=2.2.0 in /Users/tanyashetty/anaconda3/lib/python3.10/site-packages (from rich->keras>=3.5.0->tensorflow==2.18.0) (3.0.0)\n",
      "Requirement already satisfied: pygments<3.0.0,>=2.13.0 in /Users/tanyashetty/anaconda3/lib/python3.10/site-packages (from rich->keras>=3.5.0->tensorflow==2.18.0) (2.18.0)\n",
      "Requirement already satisfied: mdurl~=0.1 in /Users/tanyashetty/anaconda3/lib/python3.10/site-packages (from markdown-it-py>=2.2.0->rich->keras>=3.5.0->tensorflow==2.18.0) (0.1.2)\n",
      "Installing collected packages: tensorflow\n",
      "Successfully installed tensorflow-2.18.0\n",
      "zsh:1: 0.4.0 not found\n"
     ]
    }
   ],
   "source": [
    "!pip install tensorflow==2.18.0\n",
    "!pip install FuzzyTM>=0.4.0\n"
   ]
  },
  {
   "cell_type": "code",
   "execution_count": 4,
   "id": "2967d409",
   "metadata": {},
   "outputs": [
    {
     "name": "stdout",
     "output_type": "stream",
     "text": [
      "Found existing installation: PyQt5 5.15.11\n",
      "Uninstalling PyQt5-5.15.11:\n",
      "  Successfully uninstalled PyQt5-5.15.11\n",
      "Found existing installation: PyQt5_sip 12.16.1\n",
      "Uninstalling PyQt5_sip-12.16.1:\n",
      "  Successfully uninstalled PyQt5_sip-12.16.1\n"
     ]
    }
   ],
   "source": [
    "!pip uninstall PyQt5 -y\n",
    "!pip uninstall PyQt5-sip -y\n",
    "\n"
   ]
  },
  {
   "cell_type": "code",
   "execution_count": 5,
   "id": "31a4c324",
   "metadata": {},
   "outputs": [
    {
     "name": "stdout",
     "output_type": "stream",
     "text": [
      "Collecting PyQt5==5.15.11\n",
      "  Using cached PyQt5-5.15.11-cp38-abi3-macosx_11_0_arm64.whl (6.6 MB)\n",
      "Requirement already satisfied: PyQt5-Qt5<5.16.0,>=5.15.2 in /Users/tanyashetty/anaconda3/lib/python3.10/site-packages (from PyQt5==5.15.11) (5.15.16)\n",
      "Collecting PyQt5-sip<13,>=12.15\n",
      "  Using cached PyQt5_sip-12.16.1-cp310-cp310-macosx_10_9_universal2.whl (122 kB)\n",
      "Installing collected packages: PyQt5-sip, PyQt5\n",
      "Successfully installed PyQt5-5.15.11 PyQt5-sip-12.16.1\n"
     ]
    }
   ],
   "source": [
    "!pip install PyQt5==5.15.11\n",
    "\n"
   ]
  },
  {
   "cell_type": "code",
   "execution_count": 6,
   "id": "c0145a65",
   "metadata": {},
   "outputs": [
    {
     "name": "stdout",
     "output_type": "stream",
     "text": [
      "zsh:1: 12.15, not found\r\n"
     ]
    }
   ],
   "source": [
    "!pip install PyQt5-sip>=12.15,<13"
   ]
  },
  {
   "cell_type": "code",
   "execution_count": 7,
   "id": "5c8a70a3",
   "metadata": {},
   "outputs": [
    {
     "name": "stdout",
     "output_type": "stream",
     "text": [
      "Name: PyQt5\n",
      "Version: 5.15.11\n",
      "Summary: Python bindings for the Qt cross platform application toolkit\n",
      "Home-page: \n",
      "Author: \n",
      "Author-email: Riverbank Computing Limited <info@riverbankcomputing.com>\n",
      "License: GPL v3\n",
      "Location: /Users/tanyashetty/anaconda3/lib/python3.10/site-packages\n",
      "Requires: PyQt5-Qt5, PyQt5-sip\n",
      "Required-by: PyQtWebEngine, spyder\n"
     ]
    }
   ],
   "source": [
    "!pip show PyQt5\n"
   ]
  },
  {
   "cell_type": "code",
   "execution_count": 8,
   "id": "ff9bf926",
   "metadata": {},
   "outputs": [
    {
     "name": "stdout",
     "output_type": "stream",
     "text": [
      "2.18.0\n"
     ]
    }
   ],
   "source": [
    "import tensorflow as tf\n",
    "print(tf.__version__)  # Should print the version of TensorFlow (e.g., 2.18.0)\n"
   ]
  },
  {
   "cell_type": "code",
   "execution_count": 9,
   "id": "9282a9e5",
   "metadata": {},
   "outputs": [
    {
     "name": "stdout",
     "output_type": "stream",
     "text": [
      "1.26.0\n"
     ]
    }
   ],
   "source": [
    "import numpy as np\n",
    "print(np.__version__)  # Should print the version of numpy (e.g., 1.26.0)\n"
   ]
  },
  {
   "cell_type": "code",
   "execution_count": 10,
   "id": "c78346c6",
   "metadata": {},
   "outputs": [
    {
     "name": "stdout",
     "output_type": "stream",
     "text": [
      "Requirement already satisfied: numpy in /Users/tanyashetty/anaconda3/lib/python3.10/site-packages (1.26.0)\n",
      "Requirement already satisfied: matplotlib in /Users/tanyashetty/anaconda3/lib/python3.10/site-packages (3.7.0)\n",
      "Requirement already satisfied: pillow in /Users/tanyashetty/anaconda3/lib/python3.10/site-packages (9.4.0)\n",
      "Requirement already satisfied: python-dateutil>=2.7 in /Users/tanyashetty/anaconda3/lib/python3.10/site-packages (from matplotlib) (2.8.2)\n",
      "Requirement already satisfied: pyparsing>=2.3.1 in /Users/tanyashetty/anaconda3/lib/python3.10/site-packages (from matplotlib) (3.0.9)\n",
      "Requirement already satisfied: cycler>=0.10 in /Users/tanyashetty/anaconda3/lib/python3.10/site-packages (from matplotlib) (0.11.0)\n",
      "Requirement already satisfied: fonttools>=4.22.0 in /Users/tanyashetty/anaconda3/lib/python3.10/site-packages (from matplotlib) (4.25.0)\n",
      "Requirement already satisfied: contourpy>=1.0.1 in /Users/tanyashetty/anaconda3/lib/python3.10/site-packages (from matplotlib) (1.0.5)\n",
      "Requirement already satisfied: kiwisolver>=1.0.1 in /Users/tanyashetty/anaconda3/lib/python3.10/site-packages (from matplotlib) (1.4.4)\n",
      "Requirement already satisfied: packaging>=20.0 in /Users/tanyashetty/anaconda3/lib/python3.10/site-packages (from matplotlib) (22.0)\n",
      "Requirement already satisfied: six>=1.5 in /Users/tanyashetty/anaconda3/lib/python3.10/site-packages (from python-dateutil>=2.7->matplotlib) (1.16.0)\n",
      "Note: you may need to restart the kernel to use updated packages.\n"
     ]
    }
   ],
   "source": [
    "pip install numpy matplotlib pillow\n"
   ]
  },
  {
   "cell_type": "code",
   "execution_count": 11,
   "id": "a96ff4b1",
   "metadata": {},
   "outputs": [],
   "source": [
    "#importing all the necessary libraries\n",
    "import tensorflow as tf\n",
    "from tensorflow.keras.preprocessing.image import ImageDataGenerator\n",
    "from tensorflow.keras.applications import MobileNetV2\n",
    "from tensorflow.keras.layers import Dense, GlobalAveragePooling2D\n",
    "from tensorflow.keras.models import Model\n",
    "import matplotlib.pyplot as plt\n",
    "\n",
    "import tensorflow as tf\n",
    "import numpy as np\n",
    "import os\n",
    "from PIL import Image\n",
    "import matplotlib.pyplot as plt\n",
    "\n"
   ]
  },
  {
   "cell_type": "code",
   "execution_count": 12,
   "id": "ab595d39",
   "metadata": {},
   "outputs": [
    {
     "name": "stderr",
     "output_type": "stream",
     "text": [
      "/Users/tanyashetty/anaconda3/lib/python3.10/site-packages/PIL/TiffImagePlugin.py:858: UserWarning: Truncated File Read\n",
      "  warnings.warn(str(msg))\n"
     ]
    },
    {
     "name": "stdout",
     "output_type": "stream",
     "text": [
      "No corrupted images found.\n"
     ]
    }
   ],
   "source": [
    "# Function to check for corrupted images\n",
    "def check_images(directory):\n",
    "    invalid_images = []\n",
    "    for root, dirs, files in os.walk(directory):\n",
    "        for file in files:\n",
    "            if file.lower().endswith(('png', 'jpg', 'jpeg', 'bmp', 'gif')):\n",
    "                file_path = os.path.join(root, file)\n",
    "                try:\n",
    "                    with Image.open(file_path) as img:\n",
    "                        img.verify()  # Verifies if the image can be opened without errors\n",
    "                except (IOError, SyntaxError) as e:\n",
    "                    invalid_images.append(file_path)  # Collect paths of corrupted images\n",
    "    return invalid_images\n",
    "\n",
    "\n",
    "\n",
    "# Run the check on your images\n",
    "corrupted_images = check_images('/Users/tanyashetty/Documents/AI Project/PetImages')\n",
    "\n",
    "# Display the corrupted image paths (if any)\n",
    "if corrupted_images:\n",
    "    print(\"Corrupted images found:\")\n",
    "    for image in corrupted_images:\n",
    "        print(image)\n",
    "else:\n",
    "    print(\"No corrupted images found.\")\n"
   ]
  },
  {
   "cell_type": "code",
   "execution_count": 13,
   "id": "21b8b44f",
   "metadata": {},
   "outputs": [],
   "source": [
    "# Function to remove corrupted images\n",
    "def remove_corrupted_images(corrupted_images):\n",
    "    for image in corrupted_images:\n",
    "        try:\n",
    "            os.remove(image)  # Deletes the corrupted image file\n",
    "            print(f\"Removed corrupted image: {image}\")\n",
    "        except Exception as e:\n",
    "            print(f\"Error removing {image}: {e}\")\n",
    "\n",
    "# Remove the corrupted images\n",
    "remove_corrupted_images(corrupted_images)\n"
   ]
  },
  {
   "cell_type": "code",
   "execution_count": 14,
   "id": "3c1b613e",
   "metadata": {},
   "outputs": [
    {
     "name": "stdout",
     "output_type": "stream",
     "text": [
      "Found 20000 images belonging to 2 classes.\n",
      "Found 4998 images belonging to 2 classes.\n"
     ]
    }
   ],
   "source": [
    "#Adjust Data Generators\n",
    "\n",
    "\n",
    "# flow_from_directory: This method will automatically assign class labels based on the folder names (Cat and Dog), and it will use them for binary classification. Keras will assign 0 for the Cat folder and 1 for the Dog folder.\n",
    "# validation_split=0.2: Using 20% of the images as the validation set.\n",
    "#subset='training' and subset='validation': This ensures that we split the dataset into training and validation sets (80% for training, 20% for validation).\n",
    "\n",
    "\n",
    "import tensorflow as tf\n",
    "from tensorflow.keras.preprocessing.image import ImageDataGenerator\n",
    "\n",
    "# Set image size for the pre-trained model\n",
    "image_size = (224, 224)\n",
    "\n",
    "# Initialize ImageDataGenerator for training with rescaling and validation split\n",
    "train_datagen = ImageDataGenerator(rescale=1./255, validation_split=0.2)\n",
    "\n",
    "# Training data generator\n",
    "train_generator = train_datagen.flow_from_directory(\n",
    "    '/Users/tanyashetty/Documents/AI Project/PetImages',  # Path to your dataset folder (PetImages)\n",
    "    target_size=image_size,\n",
    "    batch_size=32,\n",
    "    class_mode='binary',  # Binary classification (cats vs dogs)\n",
    "    subset='training'     # Use only the training subset\n",
    ")\n",
    "\n",
    "# Validation data generator\n",
    "validation_generator = train_datagen.flow_from_directory(\n",
    "    '/Users/tanyashetty/Documents/AI Project/PetImages',  # Same folder for validation subset\n",
    "    target_size=image_size,\n",
    "    batch_size=32,\n",
    "    class_mode='binary',  # Binary classification\n",
    "    subset='validation'   # Use only the validation subset\n",
    ")\n"
   ]
  },
  {
   "cell_type": "code",
   "execution_count": 15,
   "id": "3d0024d9",
   "metadata": {},
   "outputs": [],
   "source": [
    "# Creating the model\n",
    "\n",
    "from tensorflow.keras.applications import MobileNetV2\n",
    "from tensorflow.keras.layers import Dense, GlobalAveragePooling2D\n",
    "from tensorflow.keras.models import Model\n",
    "\n",
    "#Load pre-trained MobileNetV2 model (without the top classification layer)\n",
    "base_model = MobileNetV2(weights='imagenet', include_top=False, input_shape=(224, 224, 3))\n",
    "\n",
    "#Freeze the base model (don't train its weights)\n",
    "base_model.trainable = False\n",
    "\n",
    "# Add custom layers on top for binary classification\n",
    "x = base_model.output\n",
    "x = GlobalAveragePooling2D()(x)\n",
    "x = Dense(1024, activation='relu')(x)\n",
    "predictions = Dense(1, activation='sigmoid')(x)\n",
    "\n",
    "# Create the full model\n",
    "model = Model(inputs=base_model.input, outputs=predictions)\n",
    "\n",
    "# Compile the model\n",
    "model.compile(optimizer='adam', loss='binary_crossentropy', metrics=['accuracy'])\n"
   ]
  },
  {
   "cell_type": "code",
   "execution_count": 16,
   "id": "548183ea",
   "metadata": {},
   "outputs": [
    {
     "name": "stdout",
     "output_type": "stream",
     "text": [
      "Epoch 1/10\n"
     ]
    },
    {
     "name": "stderr",
     "output_type": "stream",
     "text": [
      "/Users/tanyashetty/anaconda3/lib/python3.10/site-packages/keras/src/trainers/data_adapters/py_dataset_adapter.py:121: UserWarning: Your `PyDataset` class should call `super().__init__(**kwargs)` in its constructor. `**kwargs` can include `workers`, `use_multiprocessing`, `max_queue_size`. Do not pass these arguments to `fit()`, as they will be ignored.\n",
      "  self._warn_if_super_not_called()\n"
     ]
    },
    {
     "name": "stdout",
     "output_type": "stream",
     "text": [
      "\u001b[1m625/625\u001b[0m \u001b[32m━━━━━━━━━━━━━━━━━━━━\u001b[0m\u001b[37m\u001b[0m \u001b[1m339s\u001b[0m 539ms/step - accuracy: 0.9682 - loss: 0.0895 - val_accuracy: 0.9820 - val_loss: 0.0453\n",
      "Epoch 2/10\n",
      "\u001b[1m625/625\u001b[0m \u001b[32m━━━━━━━━━━━━━━━━━━━━\u001b[0m\u001b[37m\u001b[0m \u001b[1m337s\u001b[0m 539ms/step - accuracy: 0.9847 - loss: 0.0405 - val_accuracy: 0.9826 - val_loss: 0.0445\n",
      "Epoch 3/10\n",
      "\u001b[1m625/625\u001b[0m \u001b[32m━━━━━━━━━━━━━━━━━━━━\u001b[0m\u001b[37m\u001b[0m \u001b[1m355s\u001b[0m 568ms/step - accuracy: 0.9887 - loss: 0.0296 - val_accuracy: 0.9836 - val_loss: 0.0421\n",
      "Epoch 4/10\n",
      "\u001b[1m625/625\u001b[0m \u001b[32m━━━━━━━━━━━━━━━━━━━━\u001b[0m\u001b[37m\u001b[0m \u001b[1m351s\u001b[0m 562ms/step - accuracy: 0.9921 - loss: 0.0196 - val_accuracy: 0.9824 - val_loss: 0.0511\n",
      "Epoch 5/10\n",
      "\u001b[1m625/625\u001b[0m \u001b[32m━━━━━━━━━━━━━━━━━━━━\u001b[0m\u001b[37m\u001b[0m \u001b[1m343s\u001b[0m 549ms/step - accuracy: 0.9939 - loss: 0.0165 - val_accuracy: 0.9798 - val_loss: 0.0698\n",
      "Epoch 6/10\n",
      "\u001b[1m625/625\u001b[0m \u001b[32m━━━━━━━━━━━━━━━━━━━━\u001b[0m\u001b[37m\u001b[0m \u001b[1m322s\u001b[0m 516ms/step - accuracy: 0.9937 - loss: 0.0155 - val_accuracy: 0.9808 - val_loss: 0.0745\n",
      "Epoch 7/10\n",
      "\u001b[1m625/625\u001b[0m \u001b[32m━━━━━━━━━━━━━━━━━━━━\u001b[0m\u001b[37m\u001b[0m \u001b[1m327s\u001b[0m 523ms/step - accuracy: 0.9964 - loss: 0.0091 - val_accuracy: 0.9834 - val_loss: 0.0581\n",
      "Epoch 8/10\n",
      "\u001b[1m625/625\u001b[0m \u001b[32m━━━━━━━━━━━━━━━━━━━━\u001b[0m\u001b[37m\u001b[0m \u001b[1m309s\u001b[0m 494ms/step - accuracy: 0.9984 - loss: 0.0050 - val_accuracy: 0.9832 - val_loss: 0.0771\n",
      "Epoch 9/10\n",
      "\u001b[1m625/625\u001b[0m \u001b[32m━━━━━━━━━━━━━━━━━━━━\u001b[0m\u001b[37m\u001b[0m \u001b[1m332s\u001b[0m 531ms/step - accuracy: 0.9968 - loss: 0.0075 - val_accuracy: 0.9840 - val_loss: 0.0772\n",
      "Epoch 10/10\n",
      "\u001b[1m625/625\u001b[0m \u001b[32m━━━━━━━━━━━━━━━━━━━━\u001b[0m\u001b[37m\u001b[0m \u001b[1m368s\u001b[0m 589ms/step - accuracy: 0.9969 - loss: 0.0083 - val_accuracy: 0.9830 - val_loss: 0.0774\n"
     ]
    }
   ],
   "source": [
    "# Training the model \n",
    "\n",
    "# Train the model\n",
    "history = model.fit(\n",
    "    train_generator,\n",
    "    steps_per_epoch=train_generator.samples // 32,  # Number of steps per epoch\n",
    "    epochs=10,  # Number of epochs\n",
    "    validation_data=validation_generator,\n",
    "    validation_steps=validation_generator.samples // 32  # Number of validation steps\n",
    ")\n"
   ]
  },
  {
   "cell_type": "code",
   "execution_count": 17,
   "id": "7c7d342d",
   "metadata": {},
   "outputs": [
    {
     "data": {
      "image/png": "[encoded data removed]",
      "text/plain": [
       "<Figure size 640x480 with 1 Axes>"
      ]
     },
     "metadata": {},
     "output_type": "display_data"
    },
    {
     "data": {
      "image/png": "[encoded data removed]",
      "text/plain": [
       "<Figure size 640x480 with 1 Axes>"
      ]
     },
     "metadata": {},
     "output_type": "display_data"
    }
   ],
   "source": [
    "# Plotting the accuracy\n",
    "plt.plot(history.history['accuracy'], label='Train Accuracy')\n",
    "plt.plot(history.history['val_accuracy'], label='Validation Accuracy')\n",
    "plt.xlabel('Epochs')\n",
    "plt.ylabel('Accuracy')\n",
    "plt.legend()\n",
    "plt.title('Model Accuracy')\n",
    "plt.show()\n",
    "\n",
    "# Plotting the loss\n",
    "plt.plot(history.history['loss'], label='Train Loss')\n",
    "plt.plot(history.history['val_loss'], label='Validation Loss')\n",
    "plt.xlabel('Epochs')\n",
    "plt.ylabel('Loss')\n",
    "plt.legend()\n",
    "plt.title('Model Loss')\n",
    "plt.show()\n"
   ]
  },
  {
   "cell_type": "code",
   "execution_count": 18,
   "id": "afd2de77",
   "metadata": {},
   "outputs": [],
   "source": [
    "# Save the model in the new .keras format\n",
    "model.save('cat_dog_model.keras')\n",
    "\n"
   ]
  },
  {
   "cell_type": "code",
   "execution_count": 38,
   "id": "0f4b634a",
   "metadata": {},
   "outputs": [],
   "source": [
    "# Saved the A-Cat image locally \n",
    "img_path = '/Users/tanyashetty/Documents/AI Project/D.jpg'\n"
   ]
  },
  {
   "cell_type": "code",
   "execution_count": 39,
   "id": "e3d579d1",
   "metadata": {},
   "outputs": [
    {
     "name": "stdout",
     "output_type": "stream",
     "text": [
      "\u001b[1m1/1\u001b[0m \u001b[32m━━━━━━━━━━━━━━━━━━━━\u001b[0m\u001b[37m\u001b[0m \u001b[1m1s\u001b[0m 551ms/step\n",
      "Prediction: Dog\n"
     ]
    }
   ],
   "source": [
    "# Testing the prediction of the web sourced image\n",
    "\n",
    "from tensorflow.keras.preprocessing import image\n",
    "import numpy as np\n",
    "import tensorflow as tf\n",
    "\n",
    "# Load the saved model\n",
    "model = tf.keras.models.load_model('cat_dog_model.keras')  # Or 'cat_dog_model.h5' if you saved in that format\n",
    "\n",
    "# Load the image for prediction\n",
    "img_path = '/Users/tanyashetty/Documents/AI Project/D.jpg'  # Path to your downloaded or saved image\n",
    "img = image.load_img(img_path, target_size=(224, 224))  # Resize the image\n",
    "img_array = image.img_to_array(img)  # Convert image to array\n",
    "img_array = np.expand_dims(img_array, axis=0)  # Add batch dimension\n",
    "\n",
    "# Normalize the image array (same as during training)\n",
    "img_array = img_array / 255.0\n",
    "\n",
    "# Make the prediction\n",
    "prediction = model.predict(img_array)\n",
    "\n",
    "# Print the prediction result\n",
    "if prediction[0] > 0.5:\n",
    "    print(\"Prediction: Dog\")\n",
    "else:\n",
    "    print(\"Prediction: Cat\")\n"
   ]
  },
  {
   "cell_type": "code",
   "execution_count": null,
   "id": "b3003df3",
   "metadata": {},
   "outputs": [],
   "source": []
  }
 ],
 "metadata": {
  "kernelspec": {
   "display_name": "Python 3 (ipykernel)",
   "language": "python",
   "name": "python3"
  },
  "language_info": {
   "codemirror_mode": {
    "name": "ipython",
    "version": 3
   },
   "file_extension": ".py",
   "mimetype": "text/x-python",
   "name": "python",
   "nbconvert_exporter": "python",
   "pygments_lexer": "ipython3",
   "version": "3.10.9"
  }
 },
 "nbformat": 4,
 "nbformat_minor": 5
}
